{
 "cells": [
  {
   "cell_type": "markdown",
   "metadata": {
    "id": "mmq2gtxtDFo3"
   },
   "source": [
    "## Extraction of Text from pdf."
   ]
  },
  {
   "cell_type": "code",
   "execution_count": 15,
   "metadata": {
    "id": "Zbw2vqUkDHzp"
   },
   "outputs": [],
   "source": [
    "import os\n",
    "import xlsxwriter\n",
    "import pdfplumber\n",
    "import pandas as pd"
   ]
  },
  {
   "cell_type": "code",
   "execution_count": 16,
   "metadata": {
    "colab": {
     "base_uri": "https://localhost:8080/",
     "height": 131
    },
    "id": "1urvCc0HDMqK",
    "outputId": "62699117-94f6-4fdf-b87a-53cbd44606db"
   },
   "outputs": [
    {
     "data": {
      "text/html": [
       "<div>\n",
       "<style scoped>\n",
       "    .dataframe tbody tr th:only-of-type {\n",
       "        vertical-align: middle;\n",
       "    }\n",
       "\n",
       "    .dataframe tbody tr th {\n",
       "        vertical-align: top;\n",
       "    }\n",
       "\n",
       "    .dataframe thead th {\n",
       "        text-align: right;\n",
       "    }\n",
       "</style>\n",
       "<table border=\"1\" class=\"dataframe\">\n",
       "  <thead>\n",
       "    <tr style=\"text-align: right;\">\n",
       "      <th></th>\n",
       "      <th>Policy_no</th>\n",
       "      <th>Issuing_office_address</th>\n",
       "      <th>Insured_name</th>\n",
       "      <th>Cust_id</th>\n",
       "      <th>PAN card</th>\n",
       "      <th>Insured_Addr</th>\n",
       "      <th>Valid_From</th>\n",
       "      <th>Valid_to</th>\n",
       "      <th>Receipt_No</th>\n",
       "      <th>Previous_Insurance</th>\n",
       "      <th>Prev_policy_no</th>\n",
       "      <th>Year_of_manuafcture</th>\n",
       "      <th>Vehicle_type</th>\n",
       "      <th>vehicle_sub_type</th>\n",
       "      <th>chassis_no</th>\n",
       "      <th>Engine_no</th>\n",
       "      <th>Reg_no</th>\n",
       "      <th>Total_payable</th>\n",
       "      <th>Net_Premiuim</th>\n",
       "      <th>Tax_Invoice_no</th>\n",
       "    </tr>\n",
       "  </thead>\n",
       "  <tbody>\n",
       "  </tbody>\n",
       "</table>\n",
       "</div>"
      ],
      "text/plain": [
       "Empty DataFrame\n",
       "Columns: [Policy_no, Issuing_office_address, Insured_name, Cust_id, PAN card, Insured_Addr, Valid_From, Valid_to, Receipt_No, Previous_Insurance, Prev_policy_no, Year_of_manuafcture, Vehicle_type, vehicle_sub_type, chassis_no, Engine_no, Reg_no, Total_payable, Net_Premiuim, Tax_Invoice_no]\n",
       "Index: []"
      ]
     },
     "execution_count": 16,
     "metadata": {},
     "output_type": "execute_result"
    }
   ],
   "source": [
    "# Creating a data frame/excel file:\n",
    "\n",
    "excel_header = [\"Policy_no\",\"Issuing_office_address\",\"Insured_name\",\"Cust_id\",\"PAN card\",\"Insured_Addr\",\"Valid_From\",\"Valid_to\",\"Receipt_No\",\"Previous_Insurance\",\"Prev_policy_no\",\"Year_of_manuafcture\",\"Vehicle_type\",'vehicle_sub_type','chassis_no','Engine_no','Reg_no','Total_payable','Net_Premiuim',\"Tax_Invoice_no\"]\n",
    "df = pd.DataFrame(columns=excel_header)\n",
    "df"
   ]
  },
  {
   "cell_type": "code",
   "execution_count": 17,
   "metadata": {
    "id": "j6J0h5KMEXm9"
   },
   "outputs": [],
   "source": [
    "lst = [\"C:/Users/Azeem/Desktop/Innovation_ Data Science _ Programming internship/pdf's/1PDF.pdf\",\"C:/Users/Azeem/Desktop/Innovation_ Data Science _ Programming internship/pdf's/2PDF.pdf\",\"C:/Users/Azeem/Desktop/Innovation_ Data Science _ Programming internship/pdf's/3PDF.pdf\",\"C:/Users/Azeem/Desktop/Innovation_ Data Science _ Programming internship/pdf's/4PDF.pdf\",\"C:/Users/Azeem/Desktop/Innovation_ Data Science _ Programming internship/pdf's/5PDF.pdf\"]\n",
    "\n",
    "for file_name in lst:\n",
    "  pdf = pdfplumber.open(file_name)\n",
    "  page = pdf.pages[0]\n",
    "  t = page.extract_tables()\n",
    "  pn = (t[0][0][1].split(':')[1]) #Policy Number\n",
    "  #print(pn)\n",
    "  pio = t[0][1][0].split(\":\")[1].replace(\"\\n\",\"\") #Policy Issuing office\n",
    "  #print(pio)\n",
    "  cusNm = t[1][0][1] # Insured Name\n",
    "  #print(cusNm)\n",
    "  cusId = t[1][0][3] \n",
    "  \n",
    "  cusId = cusId.split(\"(\")\n",
    "  Pan = cusId[1].split(\":\")[1][:-1] # Pan Card\n",
    "  cusId = cusId[0].replace(\" \",\"\")  # customer Id   \n",
    "  #print(cusId,Pan)\n",
    "  InsAdd = t[1][1][1].replace('\\n',' ') # Insured Address\n",
    "  #print(InsAdd)\n",
    "\n",
    "  poc = t[2][0][1].split(\" to \") # Period of cover\n",
    "  poc_from = poc[0]\n",
    "  poc_to = poc[1]\n",
    "  #print(poc_from,\",\",poc_to)\n",
    "\n",
    "  rn = t[2][0][3].replace(\"\\n\",\"\") # Receipt Number\n",
    "  #print(rn)\n",
    "\n",
    "  preInc = t[2][1][1] # Previous Insurer\n",
    "  #print(preInc)\n",
    "\n",
    "  ppc = t[2][1][3] # Previous Policy Number\n",
    "  #print(ppc)\n",
    "\n",
    "  YofMfg = t[3][0][3] # Year of Mfg\n",
    "  #print(YofMfg)\n",
    "\n",
    "  tov = t[3][1][1] # Type of commercial vehicle\n",
    "  #print(tov)\n",
    " \n",
    "  st = t[3][1][3].replace('\\n','') # subtype\n",
    "  #print(st)\n",
    "\n",
    "  temp = t[3][2][3].replace('\\n','').split('/')\n",
    "\n",
    "  cn = temp[0] # chassis Number\n",
    "  en = temp[1] # Engine Number\n",
    "  #print(cn,\",\",en)\n",
    "\n",
    "  reg_no = t[3][5][3]\n",
    "  #print(reg_no)\n",
    " \n",
    "  # Page 1 and 2\n",
    "\n",
    "  # Total Payable:\n",
    "  \n",
    "  t12 = pdf.pages[0].extract_text().split(\"\\n\")+pdf.pages[1].extract_text().split(\"\\n\")\n",
    "  #print(t12)\n",
    "  count =0\n",
    "  for element in t12:\n",
    "    if element[:19] =='Total Payable (Rs) ':\n",
    "      tpr_num = element[18:]\n",
    "      count=count+1\n",
    "    if(element[:17]=='Net Premium (Rs) '):\n",
    "      net_pre = element[17:]\n",
    "      count=count+1\n",
    "    if(count==2):\n",
    "      break;\n",
    "\n",
    "  #print(tpr_num) #Total Payable in rupees(number)\n",
    "  #print(net_pre) # Net Premium\n",
    "  \n",
    "\n",
    "  # Page 3\n",
    "  t3 = pdf.pages[2].extract_text().split(\"\\n\")\n",
    "  for element in t3:\n",
    "    if element[:14]==\"Tax Invoice No\":\n",
    "      tin = element\n",
    "      break;\n",
    "    else:\n",
    "      pass\n",
    "  tin= tin.split(\":\")[1].replace(\" \",\"\") # Tax Invoice Number\n",
    "  #print(tin)\n",
    "  df = df.append({\"Policy_no\":pn,\"Issuing_office_address\":pio,\"Insured_name\":cusNm,\"Cust_id\":cusId,\"PAN card\":Pan,\"Insured_Addr\":InsAdd,\"Valid_From\":poc_from,\"Valid_to\":poc_to,\"Receipt_No\":rn,\"Previous_Insurance\":preInc,\"Prev_policy_no\":ppc,\"Year_of_manuafcture\":YofMfg,\"Vehicle_type\":tov,'vehicle_sub_type':st,'chassis_no':cn,'Engine_no':en,'Reg_no':reg_no,'Total_payable':tpr_num,'Net_Premiuim':net_pre,\"Tax_Invoice_no\":tin},ignore_index=True)\n",
    "\n",
    "\n",
    " \n",
    " \n",
    "  \n",
    "\n",
    "  \n"
   ]
  },
  {
   "cell_type": "code",
   "execution_count": 18,
   "metadata": {
    "id": "i241ahFhFk-n"
   },
   "outputs": [],
   "source": [
    "writer = pd.ExcelWriter('Extracted_file.xlsx',engine='xlsxwriter')"
   ]
  },
  {
   "cell_type": "code",
   "execution_count": 19,
   "metadata": {
    "id": "4_88QP2ybCvQ"
   },
   "outputs": [],
   "source": [
    "df.to_excel(writer,sheet_name='main')"
   ]
  },
  {
   "cell_type": "code",
   "execution_count": 20,
   "metadata": {
    "id": "3_p0ekuubNMO"
   },
   "outputs": [],
   "source": [
    "writer.save()"
   ]
  },
  {
   "cell_type": "code",
   "execution_count": 21,
   "metadata": {},
   "outputs": [
    {
     "name": "stderr",
     "output_type": "stream",
     "text": [
      "D:\\Anaconda\\lib\\site-packages\\xlsxwriter\\workbook.py:338: UserWarning: Calling close() on already closed file.\n",
      "  warn(\"Calling close() on already closed file.\")\n"
     ]
    }
   ],
   "source": [
    "writer.close()"
   ]
  },
  {
   "cell_type": "code",
   "execution_count": null,
   "metadata": {},
   "outputs": [],
   "source": []
  }
 ],
 "metadata": {
  "colab": {
   "collapsed_sections": [],
   "name": "pdfplumber.ipynb",
   "provenance": []
  },
  "kernelspec": {
   "display_name": "Python 3 (ipykernel)",
   "language": "python",
   "name": "python3"
  },
  "language_info": {
   "codemirror_mode": {
    "name": "ipython",
    "version": 3
   },
   "file_extension": ".py",
   "mimetype": "text/x-python",
   "name": "python",
   "nbconvert_exporter": "python",
   "pygments_lexer": "ipython3",
   "version": "3.9.7"
  }
 },
 "nbformat": 4,
 "nbformat_minor": 1
}
